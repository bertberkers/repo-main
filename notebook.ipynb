{
 "cells": [
  {
   "cell_type": "markdown",
   "id": "1e24e81e",
   "metadata": {},
   "source": [
    "# CIEQ6232 Public Transport Demand and Network Planning and Operations"
   ]
  },
  {
   "cell_type": "markdown",
   "id": "b48d4537",
   "metadata": {},
   "source": [
    "### Pre-requisites"
   ]
  },
  {
   "cell_type": "code",
   "execution_count": 1,
   "id": "3a879048",
   "metadata": {},
   "outputs": [
    {
     "ename": "ModuleNotFoundError",
     "evalue": "No module named 'gtfspy'",
     "output_type": "error",
     "traceback": [
      "\u001b[1;31m---------------------------------------------------------------------------\u001b[0m",
      "\u001b[1;31mModuleNotFoundError\u001b[0m                       Traceback (most recent call last)",
      "File \u001b[1;32mD:\\tu delft\\repo-main\\utils.py:8\u001b[0m\n\u001b[0;32m      3\u001b[0m \u001b[38;5;28;01mfrom\u001b[39;00m \u001b[38;5;21;01mitertools\u001b[39;00m \u001b[38;5;28;01mimport\u001b[39;00m islice\n\u001b[0;32m      5\u001b[0m \u001b[38;5;28;01mfrom\u001b[39;00m \u001b[38;5;21;01mstatistics\u001b[39;00m \u001b[38;5;28;01mimport\u001b[39;00m mean \n\u001b[1;32m----> 8\u001b[0m \u001b[38;5;28;01mfrom\u001b[39;00m \u001b[38;5;21;01mgtfspy\u001b[39;00m \u001b[38;5;28;01mimport\u001b[39;00m import_gtfs, gtfs, networks, route_types, mapviz, util\n\u001b[0;32m      9\u001b[0m \u001b[38;5;28;01mfrom\u001b[39;00m \u001b[38;5;21;01mgtfspy\u001b[39;00m\u001b[38;5;21;01m.\u001b[39;00m\u001b[38;5;21;01mfilter\u001b[39;00m \u001b[38;5;28;01mimport\u001b[39;00m FilterExtract\n\u001b[0;32m     11\u001b[0m \u001b[38;5;28;01mfrom\u001b[39;00m \u001b[38;5;21;01mbokeh\u001b[39;00m\u001b[38;5;21;01m.\u001b[39;00m\u001b[38;5;21;01mio\u001b[39;00m \u001b[38;5;28;01mimport\u001b[39;00m show, export_png\n",
      "\u001b[1;31mModuleNotFoundError\u001b[0m: No module named 'gtfspy'"
     ]
    }
   ],
   "source": [
    "%%capture\n",
    "%run utils.py # Load auxiliary functions"
   ]
  },
  {
   "cell_type": "code",
   "execution_count": null,
   "id": "1b8dd99e",
   "metadata": {},
   "outputs": [],
   "source": [
    "# Show maps inline\n",
    "from bokeh.resources import INLINE\n",
    "import bokeh.io\n",
    "bokeh.io.output_notebook(INLINE)"
   ]
  },
  {
   "cell_type": "markdown",
   "id": "e3a78a00",
   "metadata": {},
   "source": [
    "----"
   ]
  },
  {
   "cell_type": "markdown",
   "id": "3352c9aa",
   "metadata": {},
   "source": [
    "# Graph processing"
   ]
  },
  {
   "cell_type": "markdown",
   "id": "c9c714fc",
   "metadata": {},
   "source": [
    "### Parameters\n",
    "Update the following parameters based on the city you chosed"
   ]
  },
  {
   "cell_type": "code",
   "execution_count": null,
   "id": "2fcfbb80",
   "metadata": {},
   "outputs": [],
   "source": [
    "path_to_sqlite=\"chicago.sqlite\" # Path where the sqlite database is stored"
   ]
  },
  {
   "cell_type": "markdown",
   "id": "808f761f",
   "metadata": {},
   "source": [
    "### Load GTFS data"
   ]
  },
  {
   "cell_type": "code",
   "execution_count": null,
   "id": "e7befdc5",
   "metadata": {},
   "outputs": [],
   "source": [
    "g=load_gtfs(path_to_sqlite)"
   ]
  },
  {
   "cell_type": "markdown",
   "id": "db618ae6",
   "metadata": {},
   "source": [
    "### Generate L-space"
   ]
  },
  {
   "cell_type": "code",
   "execution_count": null,
   "id": "95868cd7",
   "metadata": {},
   "outputs": [],
   "source": [
    "#Get available modes for the city\n",
    "[mode_to_string(x) for x in g.get_modes()]"
   ]
  },
  {
   "cell_type": "code",
   "execution_count": null,
   "id": "140a3aee",
   "metadata": {},
   "outputs": [],
   "source": [
    "#Generate networkX graph\n",
    "L=generate_graph(g,\n",
    "               \"Subway\", # Chosen mode from previous list\n",
    "                start_hour=5, # Consider trips from 5am...\n",
    "                end_hour=24) #  ... to midnight"
   ]
  },
  {
   "cell_type": "code",
   "execution_count": null,
   "id": "5e413503",
   "metadata": {},
   "outputs": [],
   "source": [
    "plot_graph(L, back_map=\"OSM\")"
   ]
  },
  {
   "cell_type": "markdown",
   "id": "5b259e3f",
   "metadata": {},
   "source": [
    "#### Understanding nodes and edges\n",
    "Each node has an ID and a dictionary of attributes, including the latitude and longitude (coordinates) and a given name.\n",
    "\n",
    "An edge is a triplet (n1,n2,attrs), where n1 is the ID of the origin stop, n2 is the ID of the destination stop, and attrs is a dictionary with the attributes of the edge, including:\n",
    "- duration_avg: the average time in seconds to travel the edge\n",
    "- d: the length in meters of the edge\n",
    "- n_vehicles: the total number of vehicles that pass through the edge in the studied period\n",
    "- route_I_counts: same as n_vehicles but split by line_id"
   ]
  },
  {
   "cell_type": "code",
   "execution_count": null,
   "id": "4fe839e7",
   "metadata": {},
   "outputs": [],
   "source": [
    "#An example node\n",
    "list(L.nodes(data=True))[0]"
   ]
  },
  {
   "cell_type": "code",
   "execution_count": null,
   "id": "a1257a72",
   "metadata": {},
   "outputs": [],
   "source": [
    "#An example edge\n",
    "list(L.edges(data=True))[0]"
   ]
  },
  {
   "cell_type": "markdown",
   "id": "eee0e73e",
   "metadata": {},
   "source": [
    "### Automatic merge\n",
    "In this step, all stops with the exact same name are merged if (and only if) they are not farther away than **delta** meters"
   ]
  },
  {
   "cell_type": "code",
   "execution_count": null,
   "id": "48596a4a",
   "metadata": {
    "scrolled": false
   },
   "outputs": [],
   "source": [
    "L_merged=merge_stops_with_same_name(L,delta=200) #Same name and closer to 200m"
   ]
  },
  {
   "cell_type": "code",
   "execution_count": null,
   "id": "3f4a4cc0",
   "metadata": {
    "scrolled": false
   },
   "outputs": [],
   "source": [
    "plot_graph(L_merged, back_map=\"OSM\")"
   ]
  },
  {
   "cell_type": "markdown",
   "id": "c796f964",
   "metadata": {},
   "source": [
    "### Remove islands \n",
    "In this step, disconnected stops are removed from the graph. This should be a rare case, e.g., new stops that are currently being built."
   ]
  },
  {
   "cell_type": "code",
   "execution_count": null,
   "id": "f0453b7d",
   "metadata": {},
   "outputs": [],
   "source": [
    "check_islands(L_merged)"
   ]
  },
  {
   "cell_type": "markdown",
   "id": "7e56dbb1",
   "metadata": {},
   "source": [
    "### Merge recommender\n",
    "In this step possible nodes to merge are recommended and user needs to confirm (Y) or skip (N) the suggestion.\n",
    "The suggestions are based on a combination of the similarity between the names of the stops (0-100) and on the proximity of the stops"
   ]
  },
  {
   "cell_type": "code",
   "execution_count": null,
   "id": "08c948a6",
   "metadata": {},
   "outputs": [],
   "source": [
    "#### 1st round ####\n",
    "# Almost overlapping stops (20m) regardless of shared name\n",
    "string_match=0 \n",
    "stop_distance=20 \n",
    "merge_recommender(L_merged,\n",
    "                    string_match, \n",
    "                    stop_distance)\n",
    "\n",
    "#### 2nd round ####\n",
    "# Stops with at least 75% of similarity in names and closer to 500m\n",
    "string_match=75 \n",
    "stop_distance=500\n",
    "merge_recommender(L_merged,\n",
    "                    string_match, \n",
    "                    stop_distance)"
   ]
  },
  {
   "cell_type": "markdown",
   "id": "1a25a609",
   "metadata": {},
   "source": [
    "### Manual merge\n",
    "Click on two stops (holding shift) and then click on Merge button to merge stops. The last selected stop is merged into the first selected stop."
   ]
  },
  {
   "cell_type": "code",
   "execution_count": null,
   "id": "6879d380",
   "metadata": {
    "scrolled": false
   },
   "outputs": [],
   "source": [
    "manual_merge(L_merged,\n",
    "            jupyter_url=\"http://localhost:8888\") #Change the port number if you're running in a different port"
   ]
  },
  {
   "cell_type": "markdown",
   "id": "faf6eadc",
   "metadata": {},
   "source": [
    "### Sanity check\n",
    "This function prints some useful information that might help further cleaning the graph"
   ]
  },
  {
   "cell_type": "code",
   "execution_count": null,
   "id": "311bc767",
   "metadata": {},
   "outputs": [],
   "source": [
    "sanity_check(L_merged)"
   ]
  },
  {
   "cell_type": "markdown",
   "id": "7557920f",
   "metadata": {},
   "source": [
    "### Save L-space graph"
   ]
  },
  {
   "cell_type": "code",
   "execution_count": null,
   "id": "a91f5182",
   "metadata": {},
   "outputs": [],
   "source": [
    "save_graph(L_merged,\"chicago.pkl\") # Change to desired path"
   ]
  },
  {
   "cell_type": "markdown",
   "id": "a22daf33",
   "metadata": {},
   "source": [
    "----"
   ]
  },
  {
   "cell_type": "markdown",
   "id": "cfcb7aba",
   "metadata": {},
   "source": [
    "# Assignment\n",
    "Now that you have your cleaned L-space graph...."
   ]
  },
  {
   "cell_type": "markdown",
   "id": "8649b84c",
   "metadata": {},
   "source": [
    "### Parameters\n",
    "Update the following parameters based on the city you chosed"
   ]
  },
  {
   "cell_type": "code",
   "execution_count": null,
   "id": "a66ede0f",
   "metadata": {},
   "outputs": [],
   "source": [
    "path_to_sqlite=\"chicago.sqlite\" # Path where the sqlite database is stored\n",
    "L_space_path=\"chicago.pkl\" # Path where the clean L-space graph was stored"
   ]
  },
  {
   "cell_type": "markdown",
   "id": "6993d017",
   "metadata": {},
   "source": [
    "### Load GTFS data"
   ]
  },
  {
   "cell_type": "code",
   "execution_count": null,
   "id": "26b955e4",
   "metadata": {},
   "outputs": [],
   "source": [
    "g=load_gtfs(path_to_sqlite)\n",
    "\n",
    "#Get available modes for the city\n",
    "[mode_to_string(x) for x in g.get_modes()]"
   ]
  },
  {
   "cell_type": "markdown",
   "id": "387f45e8",
   "metadata": {},
   "source": [
    "### Load L-space graph"
   ]
  },
  {
   "cell_type": "code",
   "execution_count": null,
   "id": "7c9caaea",
   "metadata": {},
   "outputs": [],
   "source": [
    "L_graph=load_graph(L_space_path)"
   ]
  },
  {
   "cell_type": "markdown",
   "id": "8d706d21",
   "metadata": {},
   "source": [
    "### Create P-space "
   ]
  },
  {
   "cell_type": "code",
   "execution_count": null,
   "id": "3914e5c0",
   "metadata": {},
   "outputs": [],
   "source": [
    "P=P_space(g,\n",
    "          L_graph,\n",
    "          start_hour=5, # Same as when building L-space\n",
    "          end_hour=24, # Same as when building L-space\n",
    "          mode=\"Subway\") # Same as when building L-space\n",
    "\n",
    "plot_graph(P,\"P\")"
   ]
  },
  {
   "cell_type": "markdown",
   "id": "1d512e02",
   "metadata": {},
   "source": [
    "### Compute shortests paths between all pairs of nodes.\n",
    "#### Note: this may take several minutes (depending on the size of the graph)\n",
    "For a given pair of nodes $i$ and $j$, This function computes $sp_1,\\ldots, sp_m$, the $m$ shortest paths in $\\mathbf{L}$-space, i.e., the shortest in terms of in-vehicle travel time, for each pair of nodes $i$ and $j$\n",
    "\n",
    "The GTC between pairs of stops accounts for initial and transfer waiting times, in-vehicle travel times, and a time-equivalent penalty cost for transfers.\n",
    "\n",
    "For each path in L-space, we compute the sum of the waiting times for each leg in the path and the number of transfers, according to the labels and number of hops of the corresponding paths in $\\mathbf{P}$-space. \n",
    "The GTC is determined by the following weighted sum:\n",
    "\n",
    "$  \\text{GTC}(sp_i)= {\\text{in_vehicle_time}(sp_i) + \\mathbf{\\alpha} \\times \\text{waiting_time}(sp_i) + \\sum_{j=1}^{{\\text{n_transfers}}(sp_i)}{\\beta_J}}$"
   ]
  },
  {
   "cell_type": "code",
   "execution_count": null,
   "id": "cb467f9c",
   "metadata": {},
   "outputs": [],
   "source": [
    "# Waiting penalty (multiplier)\n",
    "alpha = 2 # Waiting time is multiplied by 2\n",
    "\n",
    "# Transfer penalties in minutes. Arbitrary size of at least one element, with the minutes to add\n",
    "# for the first, second, third... transfers. \n",
    "betas = [5,15] # 5 minutes for the first transfer, 15 minutes for any transfer after that.\n",
    "\n",
    "# Number of shortest paths to retrieve\n",
    "m = 3\n",
    "\n",
    "gtc = get_all_GTC(L_graph, P, m, alpha, betas)"
   ]
  },
  {
   "cell_type": "markdown",
   "id": "e066a28a",
   "metadata": {},
   "source": [
    "#### Understanding the results\n",
    "\n",
    "For each pair of nodes we get as many paths as requested (or as many as available if there are fewer alternative paths).\n",
    "\n",
    "The results is a dictionary, indexed by the nodes of origin (first index) and the nodes of destination (second index). For each pair of nodes we get a list, with the alternative paths ordered by GTC.\n",
    "\n",
    "Each path is again modeled as a dictionary, including the following attributes:\n",
    "- path: the sequence of nodes in the path computed in the L-space graph\n",
    "- GTC: the GTC corresponding to that path\n",
    "- in_vehicle: the in-vehicle travel time in minutes of that path\n",
    "- waiting_time: the waiting-time in minutes of that path (from P-space)\n",
    "- n_transfers: the number of transfers of that path (hops in P-space)"
   ]
  },
  {
   "cell_type": "code",
   "execution_count": null,
   "id": "f5be30aa",
   "metadata": {},
   "outputs": [],
   "source": [
    "#Example: check the GTC between nodes 51 and 37\n",
    "gtc[51][37]"
   ]
  },
  {
   "cell_type": "markdown",
   "id": "e4a444ee",
   "metadata": {},
   "source": [
    "### Auxiliary functions\n",
    "Here are some auxiliary functions that might be useful for all your assignments. Use them if you need them."
   ]
  },
  {
   "cell_type": "code",
   "execution_count": null,
   "id": "43b01332",
   "metadata": {},
   "outputs": [],
   "source": [
    "#Return the average waiting time (in minutes) per line and direction\n",
    "average_waiting_time_per_line_per_direction(P)"
   ]
  },
  {
   "cell_type": "code",
   "execution_count": null,
   "id": "d2d9240a",
   "metadata": {},
   "outputs": [],
   "source": [
    "#Return the average speed (in km/h) for the whole network\n",
    "average_speed_network(L_graph)"
   ]
  },
  {
   "cell_type": "code",
   "execution_count": null,
   "id": "8de502a4",
   "metadata": {},
   "outputs": [],
   "source": [
    "#Get dataframe with all events\n",
    "df=get_events(g,\n",
    "              mode=\"Subway\",\n",
    "              start_hour=5,\n",
    "              end_hour=24)\n",
    "df.head()"
   ]
  },
  {
   "cell_type": "code",
   "execution_count": null,
   "id": "741d8a3c",
   "metadata": {},
   "outputs": [],
   "source": [
    "#Set a new attribute to edges\n",
    "nx.set_edge_attributes(L_graph, 0, 'capacity') # Set attribute \"capacity\" with default value 0"
   ]
  }
 ],
 "metadata": {
  "kernelspec": {
   "display_name": "Python 3 (ipykernel)",
   "language": "python",
   "name": "python3"
  },
  "language_info": {
   "codemirror_mode": {
    "name": "ipython",
    "version": 3
   },
   "file_extension": ".py",
   "mimetype": "text/x-python",
   "name": "python",
   "nbconvert_exporter": "python",
   "pygments_lexer": "ipython3",
   "version": "3.8.0"
  }
 },
 "nbformat": 4,
 "nbformat_minor": 5
}
